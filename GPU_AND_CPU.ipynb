{
 "cells": [
  {
   "cell_type": "code",
   "execution_count": 1,
   "id": "20e7139a",
   "metadata": {},
   "outputs": [
    {
     "name": "stdout",
     "output_type": "stream",
     "text": [
      "True\n",
      "NVIDIA GeForce GTX 1650\n"
     ]
    }
   ],
   "source": [
    "import torch\n",
    "print(torch.cuda.is_available())\n",
    "print(torch.cuda.get_device_name(0) if torch.cuda.is_available() else \"No GPU Found\")\n"
   ]
  },
  {
   "cell_type": "code",
   "execution_count": null,
   "id": "bf9fb4e4",
   "metadata": {},
   "outputs": [
    {
     "name": "stdout",
     "output_type": "stream",
     "text": [
      "tensor([[0.7017, 0.1680, 0.9220],\n",
      "        [0.0461, 0.0154, 0.0175]])\n"
     ]
    },
    {
     "data": {
      "text/plain": [
       "tensor([[0.7017, 0.1680, 0.9220],\n",
       "        [0.0461, 0.0154, 0.0175]], device='cuda:0')"
      ]
     },
     "execution_count": 6,
     "metadata": {},
     "output_type": "execute_result"
    }
   ],
   "source": [
    "# moving an existng tensor to GPU\n",
    "a = torch.rand(2,3)\n",
    "print(a)\n",
    "device = torch.device('cuda')\n",
    "a.to(device=device)"
   ]
  },
  {
   "cell_type": "code",
   "execution_count": 7,
   "id": "3083a131",
   "metadata": {},
   "outputs": [
    {
     "data": {
      "text/plain": [
       "tensor([[5.7017, 5.1680, 5.9220],\n",
       "        [5.0461, 5.0154, 5.0175]])"
      ]
     },
     "execution_count": 7,
     "metadata": {},
     "output_type": "execute_result"
    }
   ],
   "source": [
    "a+5"
   ]
  },
  {
   "cell_type": "code",
   "execution_count": 8,
   "id": "67e11c3d",
   "metadata": {},
   "outputs": [
    {
     "name": "stdout",
     "output_type": "stream",
     "text": [
      "Time on CPU:6.5121 second\n"
     ]
    }
   ],
   "source": [
    "# Why we use GPU as compare to CPU\n",
    "import time\n",
    "\n",
    "# Define the size of matrices\n",
    "size = 10000\n",
    "\n",
    "matrix_cpu1 = torch.rand(size,size)\n",
    "matrix_cpu2 = torch.rand(size,size)\n",
    "\n",
    "# Measure time on CPU\n",
    "start_time = time.time()\n",
    "result_cpu = torch.matmul(matrix_cpu1,matrix_cpu2)\n",
    "cpu_time = time.time()-start_time\n",
    "\n",
    "print(f\"Time on CPU:{cpu_time:.4f} second\")\n"
   ]
  },
  {
   "cell_type": "code",
   "execution_count": 9,
   "id": "b34fe29d",
   "metadata": {},
   "outputs": [
    {
     "name": "stdout",
     "output_type": "stream",
     "text": [
      "Time on GPU:0.1073 second\n",
      "\n",
      "Speedup (CPU Time / GPU Time): 60.68369462100897\n"
     ]
    }
   ],
   "source": [
    "# Move matrix to GPU\n",
    "matrix_gpu1 = matrix_cpu1.to(device=device)\n",
    "matrix_gpu2 = matrix_cpu2.to(device=device)\n",
    "\n",
    "# Measure time on GPU\n",
    "start_time = time.time()\n",
    "result_gpu = torch.matmul(matrix_gpu1,matrix_gpu2)\n",
    "gpu_time = time.time()-start_time\n",
    "\n",
    "print(f\"Time on GPU:{gpu_time:.4f} second\")\n",
    "\n",
    "# Compare result\n",
    "print(\"\\nSpeedup (CPU Time / GPU Time):\",cpu_time/gpu_time)\n"
   ]
  },
  {
   "cell_type": "code",
   "execution_count": 11,
   "id": "9838ca45",
   "metadata": {},
   "outputs": [
    {
     "name": "stdout",
     "output_type": "stream",
     "text": [
      "tensor([[[0.7509, 0.3636, 0.8172, 0.0276],\n",
      "         [0.7985, 0.5709, 0.8268, 0.0812],\n",
      "         [0.1764, 0.8808, 0.9590, 0.4947]],\n",
      "\n",
      "        [[0.3057, 0.0946, 0.4351, 0.8106],\n",
      "         [0.8536, 0.1258, 0.6018, 0.0108],\n",
      "         [0.7988, 0.1521, 0.0627, 0.0216]]])\n"
     ]
    }
   ],
   "source": [
    "b=torch.rand(2,3,4)\n",
    "print(b)"
   ]
  },
  {
   "cell_type": "code",
   "execution_count": 12,
   "id": "d1f5924e",
   "metadata": {},
   "outputs": [
    {
     "data": {
      "text/plain": [
       "tensor([[[0.7509, 0.3636, 0.8172],\n",
       "         [0.0276, 0.7985, 0.5709],\n",
       "         [0.8268, 0.0812, 0.1764],\n",
       "         [0.8808, 0.9590, 0.4947]],\n",
       "\n",
       "        [[0.3057, 0.0946, 0.4351],\n",
       "         [0.8106, 0.8536, 0.1258],\n",
       "         [0.6018, 0.0108, 0.7988],\n",
       "         [0.1521, 0.0627, 0.0216]]])"
      ]
     },
     "execution_count": 12,
     "metadata": {},
     "output_type": "execute_result"
    }
   ],
   "source": [
    "b.reshape(2,4,3)"
   ]
  },
  {
   "cell_type": "code",
   "execution_count": null,
   "id": "38069f8d",
   "metadata": {},
   "outputs": [
    {
     "data": {
      "text/plain": [
       "tensor([[[0.7509, 0.7985, 0.1764],\n",
       "         [0.3057, 0.8536, 0.7988]],\n",
       "\n",
       "        [[0.3636, 0.5709, 0.8808],\n",
       "         [0.0946, 0.1258, 0.1521]],\n",
       "\n",
       "        [[0.8172, 0.8268, 0.9590],\n",
       "         [0.4351, 0.6018, 0.0627]],\n",
       "\n",
       "        [[0.0276, 0.0812, 0.4947],\n",
       "         [0.8106, 0.0108, 0.0216]]])"
      ]
     },
     "execution_count": 16,
     "metadata": {},
     "output_type": "execute_result"
    }
   ],
   "source": [
    "# permute\n",
    "b.permute(2,0,1)"
   ]
  },
  {
   "cell_type": "code",
   "execution_count": 19,
   "id": "77d9bdeb",
   "metadata": {},
   "outputs": [
    {
     "data": {
      "text/plain": [
       "torch.Size([1, 226, 226, 3])"
      ]
     },
     "execution_count": 19,
     "metadata": {},
     "output_type": "execute_result"
    }
   ],
   "source": [
    "# unsqueeze\n",
    "# image size\n",
    "c=torch.rand(226,226,3)\n",
    "c.unsqueeze(0).shape"
   ]
  },
  {
   "cell_type": "code",
   "execution_count": null,
   "id": "98e855fe",
   "metadata": {},
   "outputs": [],
   "source": []
  }
 ],
 "metadata": {
  "kernelspec": {
   "display_name": "venv (3.13.3)",
   "language": "python",
   "name": "python3"
  },
  "language_info": {
   "codemirror_mode": {
    "name": "ipython",
    "version": 3
   },
   "file_extension": ".py",
   "mimetype": "text/x-python",
   "name": "python",
   "nbconvert_exporter": "python",
   "pygments_lexer": "ipython3",
   "version": "3.13.3"
  }
 },
 "nbformat": 4,
 "nbformat_minor": 5
}
