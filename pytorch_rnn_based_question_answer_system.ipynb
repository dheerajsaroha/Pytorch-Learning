{
 "cells": [
  {
   "cell_type": "code",
   "execution_count": 7,
   "id": "2f935c8c",
   "metadata": {},
   "outputs": [],
   "source": [
    "import pandas as pd"
   ]
  },
  {
   "cell_type": "code",
   "execution_count": 8,
   "id": "3dbd6920",
   "metadata": {},
   "outputs": [
    {
     "name": "stdout",
     "output_type": "stream",
     "text": [
      "                                          question      answer\n",
      "0                   What is the capital of France?       Paris\n",
      "1                  What is the capital of Germany?      Berlin\n",
      "2               Who wrote 'To Kill a Mockingbird'?  Harper-Lee\n",
      "3  What is the largest planet in our solar system?     Jupiter\n",
      "4   What is the boiling point of water in Celsius?         100\n"
     ]
    }
   ],
   "source": [
    "df = pd.read_csv('100_Unique_QA_Dataset.csv')\n",
    "print(df.head())"
   ]
  },
  {
   "cell_type": "code",
   "execution_count": 9,
   "id": "2d1ed741",
   "metadata": {},
   "outputs": [],
   "source": [
    "# Tokenize the sentence\n",
    "def tokenize(text):\n",
    "    text = text.lower()\n",
    "    text = text.replace(\"?\",'')\n",
    "    text = text.replace(\"'\",\"\")\n",
    "    return text.split()\n",
    "\n"
   ]
  },
  {
   "cell_type": "code",
   "execution_count": 10,
   "id": "0775741b",
   "metadata": {},
   "outputs": [],
   "source": [
    "# vocab\n",
    "vocab = {'<UNK>':0}"
   ]
  },
  {
   "cell_type": "code",
   "execution_count": 11,
   "id": "bd8f2308",
   "metadata": {},
   "outputs": [],
   "source": [
    "def build_vocab(row):\n",
    "    # print(row['question'],row['answer'])\n",
    "    tokenized_question=tokenize(row['question'])\n",
    "    tokenized_answer = tokenize(row['answer'])\n",
    "    \n",
    "    merged_token=tokenized_question + tokenized_answer\n",
    "    for token in merged_token:\n",
    "        if token not in vocab:\n",
    "            vocab[token] = len(vocab)"
   ]
  },
  {
   "cell_type": "code",
   "execution_count": 12,
   "id": "93d7e48e",
   "metadata": {},
   "outputs": [
    {
     "data": {
      "text/plain": [
       "0     None\n",
       "1     None\n",
       "2     None\n",
       "3     None\n",
       "4     None\n",
       "      ... \n",
       "85    None\n",
       "86    None\n",
       "87    None\n",
       "88    None\n",
       "89    None\n",
       "Length: 90, dtype: object"
      ]
     },
     "execution_count": 12,
     "metadata": {},
     "output_type": "execute_result"
    }
   ],
   "source": [
    "df.apply(build_vocab,axis=1)"
   ]
  },
  {
   "cell_type": "code",
   "execution_count": 13,
   "id": "1b8d597a",
   "metadata": {},
   "outputs": [],
   "source": [
    "# convert word into numerical indices\n",
    "def text_to_indices(text,vocab):\n",
    "    indexed_text = []\n",
    "    for token in tokenize(text):\n",
    "        if token in vocab:\n",
    "            indexed_text.append(vocab[token])\n",
    "        else:\n",
    "            indexed_text.append(vocab['<UNK>'])\n",
    "    return indexed_text\n",
    "\n",
    "\n",
    "# text_to_indices(\"What is capital of France?\",vocab)"
   ]
  },
  {
   "cell_type": "code",
   "execution_count": 14,
   "id": "5f2c3598",
   "metadata": {},
   "outputs": [],
   "source": [
    "\n",
    "import torch\n",
    "from torch.utils.data import DataLoader,Dataset\n"
   ]
  },
  {
   "cell_type": "code",
   "execution_count": 15,
   "id": "f383f972",
   "metadata": {},
   "outputs": [],
   "source": [
    "class QADataset(Dataset):\n",
    "    def __init__(self,df,vocab):\n",
    "        self.df=df\n",
    "        self.vocab = vocab\n",
    "    \n",
    "    def __len__(self,):\n",
    "        return self.df.shape[0]\n",
    "\n",
    "    def __getitem__(self, index):\n",
    "        numerical_question = text_to_indices(self.df.iloc[index]['question'],self.vocab)\n",
    "        numerical_answer = text_to_indices(self.df.iloc[index]['answer'],self.vocab)\n",
    "        return torch.tensor(numerical_question),torch.tensor(numerical_answer)\n",
    "    \n"
   ]
  },
  {
   "cell_type": "code",
   "execution_count": 16,
   "id": "4b7abd63",
   "metadata": {},
   "outputs": [],
   "source": [
    "dataset = QADataset(df,vocab)\n"
   ]
  },
  {
   "cell_type": "code",
   "execution_count": 17,
   "id": "1d814c0c",
   "metadata": {},
   "outputs": [],
   "source": [
    "dataloader = DataLoader(dataset,batch_size=1,shuffle=True)"
   ]
  },
  {
   "cell_type": "code",
   "execution_count": 18,
   "id": "fa68c6a1",
   "metadata": {},
   "outputs": [
    {
     "name": "stdout",
     "output_type": "stream",
     "text": [
      "tensor([[ 1,  2,  3, 92, 93, 94]]) tensor([[95]])\n",
      "tensor([[ 42, 263, 264,  14, 265, 266, 158, 267]]) tensor([[268]])\n",
      "tensor([[ 42, 216, 118, 217, 218,  19,  14, 219,  43]]) tensor([[220]])\n",
      "tensor([[10, 11, 12, 13, 14, 15]]) tensor([[16]])\n",
      "tensor([[  1,   2,   3,  33,  34,   5, 245]]) tensor([[246]])\n",
      "tensor([[ 78,  79, 195,  81,  19,   3, 196, 197, 198]]) tensor([[199]])\n",
      "tensor([[ 1,  2,  3, 59, 25,  5, 26, 19, 60]]) tensor([[61]])\n",
      "tensor([[ 1,  2,  3, 33, 34,  5, 35]]) tensor([[36]])\n",
      "tensor([[  1,   2,   3, 146, 147,  19, 148]]) tensor([[149]])\n",
      "tensor([[ 1,  2,  3,  4,  5, 53]]) tensor([[54]])\n",
      "tensor([[ 42,  18, 118,   3, 186, 187]]) tensor([[188]])\n",
      "tensor([[ 1,  2,  3,  4,  5, 73]]) tensor([[74]])\n",
      "tensor([[ 1,  2,  3, 69,  5, 53]]) tensor([[260]])\n",
      "tensor([[10, 55,  3, 56,  5, 57]]) tensor([[58]])\n",
      "tensor([[ 10,   2,  62,  63,   3, 283,   5, 284]]) tensor([[285]])\n",
      "tensor([[42, 86, 87, 88, 89, 39, 90]]) tensor([[91]])\n",
      "tensor([[ 42, 299, 300, 118,  14, 301, 302, 158, 303, 304, 305, 306]]) tensor([[307]])\n",
      "tensor([[  1,  87, 229, 230, 231, 232]]) tensor([[233]])\n",
      "tensor([[ 42, 137,   2, 138,  39, 139]]) tensor([[53]])\n",
      "tensor([[ 10,  75, 111]]) tensor([[112]])\n",
      "tensor([[ 78,  79, 150, 151,  14, 152, 153]]) tensor([[154]])\n",
      "tensor([[1, 2, 3, 4, 5, 8]]) tensor([[9]])\n",
      "tensor([[ 10, 308,   3, 309, 310]]) tensor([[311]])\n",
      "tensor([[78, 79, 80, 81, 82, 83, 84]]) tensor([[85]])\n",
      "tensor([[ 42,   2,   3, 210, 137, 168, 211, 169]]) tensor([[113]])\n",
      "tensor([[  1,   2,   3,   4,   5, 206]]) tensor([[207]])\n",
      "tensor([[ 10,  11, 189, 158, 190]]) tensor([[191]])\n",
      "tensor([[ 1,  2,  3, 69,  5,  3, 70, 71]]) tensor([[72]])\n",
      "tensor([[ 42, 137,   2, 138,  39, 175, 269]]) tensor([[99]])\n",
      "tensor([[  1,   2,   3, 221,   5, 222, 223, 224]]) tensor([[225]])\n",
      "tensor([[ 42,  18,   2,   3, 281,  12,   3, 282]]) tensor([[205]])\n",
      "tensor([[  1,   2,   3,  37, 133,   5,  26]]) tensor([[134]])\n",
      "tensor([[42, 43, 44, 45, 46, 47, 48]]) tensor([[49]])\n",
      "tensor([[  1,   2,   3,  69,   5, 155]]) tensor([[156]])\n",
      "tensor([[ 42, 137, 118,   3, 247,   5, 248]]) tensor([[249]])\n",
      "tensor([[ 10,  75,   3, 296,  19, 297]]) tensor([[298]])\n",
      "tensor([[ 42,   2,   3, 274, 211, 275]]) tensor([[276]])\n",
      "tensor([[ 10,  29, 130, 131]]) tensor([[132]])\n",
      "tensor([[  1,   2,   3, 212,   5,  14, 213, 214]]) tensor([[215]])\n",
      "tensor([[  1,   2,   3, 141, 117,  83,   3, 277, 278]]) tensor([[121]])\n",
      "tensor([[  1,   2,   3,   4,   5, 113]]) tensor([[114]])\n",
      "tensor([[1, 2, 3, 4, 5, 6]]) tensor([[7]])\n",
      "tensor([[ 1,  2,  3, 37, 38, 39, 40]]) tensor([[41]])\n",
      "tensor([[ 78,  79, 261, 151,  14, 262, 153]]) tensor([[36]])\n",
      "tensor([[42, 18,  2, 62, 63,  3, 64, 18]]) tensor([[65]])\n",
      "tensor([[ 1,  2,  3, 17, 18, 19, 20, 21, 22]]) tensor([[23]])\n",
      "tensor([[ 42, 107,   2, 108,  19, 109]]) tensor([[110]])\n",
      "tensor([[ 42, 137,   2, 226,  12,   3, 227, 228]]) tensor([[155]])\n",
      "tensor([[ 42, 174,   2,  62,  39, 175, 176,  12, 177, 178]]) tensor([[179]])\n",
      "tensor([[  1,   2,   3,  17, 115,  83,  84]]) tensor([[116]])\n",
      "tensor([[ 42, 200,   2,  14, 201, 202, 203, 204]]) tensor([[205]])\n",
      "tensor([[ 10, 140,   3, 141, 171,   5,   3,  70, 172]]) tensor([[173]])\n",
      "tensor([[  1,   2,   3,  92, 137,  19,   3,  45]]) tensor([[185]])\n",
      "tensor([[ 1,  2,  3, 24, 25,  5, 26, 19, 27]]) tensor([[28]])\n",
      "tensor([[  1,   2,   3, 103,   5, 104,  19, 105]]) tensor([[106]])\n",
      "tensor([[ 10,  75, 208]]) tensor([[209]])\n",
      "tensor([[10, 29,  3, 30, 31]]) tensor([[32]])\n",
      "tensor([[ 1,  2,  3,  4,  5, 99]]) tensor([[100]])\n",
      "tensor([[10,  2,  3, 66,  5, 67]]) tensor([[68]])\n",
      "tensor([[  1,   2,   3, 180, 181, 182, 183]]) tensor([[184]])\n",
      "tensor([[ 1,  2,  3, 50, 51, 19,  3, 45]]) tensor([[52]])\n",
      "tensor([[ 42, 318,   2,  62,  63,   3, 319,   5, 320]]) tensor([[321]])\n",
      "tensor([[ 42, 312,   2, 313,  62,  63,   3, 314, 315]]) tensor([[316]])\n",
      "tensor([[  1,   2,   3,   4,   5, 109]]) tensor([[317]])\n",
      "tensor([[  1,   2,   3,  37,  38,  39, 161]]) tensor([[162]])\n",
      "tensor([[10, 96,  3, 97]]) tensor([[98]])\n",
      "tensor([[ 42, 250, 251, 118, 252, 253]]) tensor([[254]])\n",
      "tensor([[  1,   2,   3, 146,  86,  19, 192, 193]]) tensor([[194]])\n",
      "tensor([[ 10, 140,   3, 141, 270,  93, 271,   5,   3, 272]]) tensor([[273]])\n",
      "tensor([[  1,   2,   3,   4,   5, 135]]) tensor([[136]])\n",
      "tensor([[  1,   2,   3,   4,   5, 279]]) tensor([[280]])\n",
      "tensor([[ 78,  79, 129,  81,  19,   3,  21,  22]]) tensor([[36]])\n",
      "tensor([[ 42, 101,   2,   3,  17]]) tensor([[102]])\n",
      "tensor([[ 42, 167,   2,   3,  17, 168, 169]]) tensor([[170]])\n",
      "tensor([[ 42, 125,   2,  62,  63,   3, 126, 127]]) tensor([[128]])\n",
      "tensor([[ 10,  11, 157, 158, 159]]) tensor([[160]])\n",
      "tensor([[  1,   2,   3, 163, 164, 165,  83,  84]]) tensor([[166]])\n",
      "tensor([[ 78,  79, 288,  81,  19,  14, 289]]) tensor([[85]])\n",
      "tensor([[  1,   2,   3, 234,   5, 235]]) tensor([[131]])\n",
      "tensor([[  1,   2,   3,   4,   5, 236, 237]]) tensor([[238]])\n",
      "tensor([[ 10,  96,   3, 104, 239]]) tensor([[240]])\n",
      "tensor([[  1,   2,   3, 122, 123,  19,   3,  45]]) tensor([[124]])\n",
      "tensor([[  1,   2,   3,   4,   5, 286]]) tensor([[287]])\n",
      "tensor([[ 42,  86,  87, 241, 242,  19,  39, 243]]) tensor([[244]])\n",
      "tensor([[ 42, 117, 118,   3, 119,  94, 120]]) tensor([[121]])\n",
      "tensor([[10, 75, 76]]) tensor([[77]])\n",
      "tensor([[ 10, 140,   3, 141, 142,  12, 143,  83,   3, 144]]) tensor([[145]])\n",
      "tensor([[ 42, 255,   2, 256,  83, 257, 258]]) tensor([[259]])\n",
      "tensor([[ 42, 290, 291, 118, 292, 158, 293, 294]]) tensor([[295]])\n",
      "tensor([[ 42, 137,   2,  62,  39,   3, 322, 323]]) tensor([[6]])\n"
     ]
    }
   ],
   "source": [
    "for question,answer in dataloader:\n",
    "    print(question,answer)"
   ]
  },
  {
   "cell_type": "code",
   "execution_count": 19,
   "id": "2c5a3bf9",
   "metadata": {},
   "outputs": [],
   "source": [
    "# Architecture of RNN\n",
    "import torch.nn as nn\n"
   ]
  },
  {
   "cell_type": "code",
   "execution_count": 44,
   "id": "585fed01",
   "metadata": {},
   "outputs": [],
   "source": [
    "class SimpleRNN(nn.Module):\n",
    "    def __init__(self, vocab_size):\n",
    "        super().__init__()\n",
    "        self.embedding = nn.Embedding(vocab_size,embedding_dim=50)\n",
    "        self.rnn =nn.RNN(50,64,batch_first=True)\n",
    "        self.fc= nn.Linear(64,vocab_size)\n",
    "        \n",
    "        \n",
    "\n",
    "    def forward(self,question):\n",
    "        embedded_question = self.embedding(question)\n",
    "        hidden,final= self.rnn(embedded_question)\n",
    "        output = self.fc(final.squeeze(0))\n",
    "        return output\n",
    "        \n"
   ]
  },
  {
   "cell_type": "code",
   "execution_count": 45,
   "id": "408459af",
   "metadata": {},
   "outputs": [],
   "source": [
    "# x= nn.Embedding(324,embedding_dim=0)\n",
    "# y = nn.RNN(50,60,batch_first=True)"
   ]
  },
  {
   "cell_type": "code",
   "execution_count": 46,
   "id": "8140eb95",
   "metadata": {},
   "outputs": [],
   "source": [
    "learning_rate = 0.001\n",
    "epochs =100"
   ]
  },
  {
   "cell_type": "code",
   "execution_count": 47,
   "id": "3fb5012c",
   "metadata": {},
   "outputs": [],
   "source": [
    "model = SimpleRNN(len(vocab))"
   ]
  },
  {
   "cell_type": "code",
   "execution_count": 48,
   "id": "4b499d9d",
   "metadata": {},
   "outputs": [],
   "source": [
    "criterion = nn.CrossEntropyLoss()\n",
    "optimizer = torch.optim.Adam(model.parameters(),lr =learning_rate)"
   ]
  },
  {
   "cell_type": "code",
   "execution_count": 49,
   "id": "d09b892f",
   "metadata": {},
   "outputs": [
    {
     "name": "stdout",
     "output_type": "stream",
     "text": [
      "Epoch 1 , Loss: 520.730445\n",
      "Epoch 2 , Loss: 457.606430\n",
      "Epoch 3 , Loss: 381.496815\n",
      "Epoch 4 , Loss: 316.488273\n",
      "Epoch 5 , Loss: 263.325233\n",
      "Epoch 6 , Loss: 215.176512\n",
      "Epoch 7 , Loss: 170.197243\n",
      "Epoch 8 , Loss: 131.330620\n",
      "Epoch 9 , Loss: 100.422415\n",
      "Epoch 10 , Loss: 75.895565\n",
      "Epoch 11 , Loss: 58.484082\n",
      "Epoch 12 , Loss: 45.619724\n",
      "Epoch 13 , Loss: 36.533978\n",
      "Epoch 14 , Loss: 29.959860\n",
      "Epoch 15 , Loss: 24.747012\n",
      "Epoch 16 , Loss: 20.938839\n",
      "Epoch 17 , Loss: 17.832325\n",
      "Epoch 18 , Loss: 15.367883\n",
      "Epoch 19 , Loss: 13.191579\n",
      "Epoch 20 , Loss: 11.750370\n",
      "Epoch 21 , Loss: 10.374855\n",
      "Epoch 22 , Loss: 9.064135\n",
      "Epoch 23 , Loss: 8.207646\n",
      "Epoch 24 , Loss: 7.160743\n",
      "Epoch 25 , Loss: 6.379970\n",
      "Epoch 26 , Loss: 5.782285\n",
      "Epoch 27 , Loss: 5.187804\n",
      "Epoch 28 , Loss: 4.608363\n",
      "Epoch 29 , Loss: 4.134892\n",
      "Epoch 30 , Loss: 3.761418\n",
      "Epoch 31 , Loss: 3.417905\n",
      "Epoch 32 , Loss: 3.135222\n",
      "Epoch 33 , Loss: 2.876524\n",
      "Epoch 34 , Loss: 2.651708\n",
      "Epoch 35 , Loss: 2.446326\n",
      "Epoch 36 , Loss: 2.269458\n",
      "Epoch 37 , Loss: 2.106120\n",
      "Epoch 38 , Loss: 1.958822\n",
      "Epoch 39 , Loss: 1.827322\n",
      "Epoch 40 , Loss: 1.705645\n",
      "Epoch 41 , Loss: 1.592925\n",
      "Epoch 42 , Loss: 1.493993\n",
      "Epoch 43 , Loss: 1.395155\n",
      "Epoch 44 , Loss: 1.312016\n",
      "Epoch 45 , Loss: 1.231216\n",
      "Epoch 46 , Loss: 1.158473\n",
      "Epoch 47 , Loss: 1.090499\n",
      "Epoch 48 , Loss: 1.026856\n",
      "Epoch 49 , Loss: 0.967962\n",
      "Epoch 50 , Loss: 0.912448\n",
      "Epoch 51 , Loss: 0.861925\n",
      "Epoch 52 , Loss: 0.814844\n",
      "Epoch 53 , Loss: 0.768863\n",
      "Epoch 54 , Loss: 0.726936\n",
      "Epoch 55 , Loss: 0.688766\n",
      "Epoch 56 , Loss: 0.651842\n",
      "Epoch 57 , Loss: 0.617244\n",
      "Epoch 58 , Loss: 0.585076\n",
      "Epoch 59 , Loss: 0.554586\n",
      "Epoch 60 , Loss: 0.525530\n",
      "Epoch 61 , Loss: 0.498951\n",
      "Epoch 62 , Loss: 0.473370\n",
      "Epoch 63 , Loss: 0.449730\n",
      "Epoch 64 , Loss: 0.427088\n",
      "Epoch 65 , Loss: 0.406012\n",
      "Epoch 66 , Loss: 0.385731\n",
      "Epoch 67 , Loss: 0.366658\n",
      "Epoch 68 , Loss: 0.348818\n",
      "Epoch 69 , Loss: 0.331699\n",
      "Epoch 70 , Loss: 0.315377\n",
      "Epoch 71 , Loss: 0.300017\n",
      "Epoch 72 , Loss: 0.285931\n",
      "Epoch 73 , Loss: 0.272125\n",
      "Epoch 74 , Loss: 0.259109\n",
      "Epoch 75 , Loss: 0.246433\n",
      "Epoch 76 , Loss: 0.234858\n",
      "Epoch 77 , Loss: 0.223908\n",
      "Epoch 78 , Loss: 0.213204\n",
      "Epoch 79 , Loss: 0.203194\n",
      "Epoch 80 , Loss: 0.193544\n",
      "Epoch 81 , Loss: 0.184487\n",
      "Epoch 82 , Loss: 0.175886\n",
      "Epoch 83 , Loss: 0.167776\n",
      "Epoch 84 , Loss: 0.160056\n",
      "Epoch 85 , Loss: 0.152720\n",
      "Epoch 86 , Loss: 0.145586\n",
      "Epoch 87 , Loss: 0.138778\n",
      "Epoch 88 , Loss: 0.132458\n",
      "Epoch 89 , Loss: 0.126389\n",
      "Epoch 90 , Loss: 0.120834\n",
      "Epoch 91 , Loss: 0.115189\n",
      "Epoch 92 , Loss: 0.109840\n",
      "Epoch 93 , Loss: 0.104728\n",
      "Epoch 94 , Loss: 0.100022\n",
      "Epoch 95 , Loss: 0.095519\n",
      "Epoch 96 , Loss: 0.091148\n",
      "Epoch 97 , Loss: 0.087111\n",
      "Epoch 98 , Loss: 0.083094\n",
      "Epoch 99 , Loss: 0.079405\n",
      "Epoch 100 , Loss: 0.075709\n"
     ]
    }
   ],
   "source": [
    "# training Loop\n",
    "for epoch in range(epochs):\n",
    "    total_loss = 0\n",
    "\n",
    "    for question,answer in dataloader:\n",
    "        optimizer.zero_grad()\n",
    "\n",
    "        # forward pass\n",
    "        output = model(question)\n",
    "\n",
    "        # loss calculate\n",
    "        loss = criterion(output,answer[0])\n",
    "\n",
    "        # gradients\n",
    "        loss.backward()\n",
    "\n",
    "        # update\n",
    "        optimizer.step()\n",
    "\n",
    "        total_loss = total_loss+loss.item()\n",
    "\n",
    "    print(f\"Epoch {epoch+1} , Loss: {total_loss:4f}\")\n",
    "\n"
   ]
  },
  {
   "cell_type": "code",
   "execution_count": 58,
   "id": "280b12bf",
   "metadata": {},
   "outputs": [],
   "source": [
    "#  Predicition\n",
    "def predict(model,question,threshold=0.5):\n",
    "\n",
    "    # convert question to number\n",
    "    numerical_question = text_to_indices(question,vocab)\n",
    "\n",
    "    # convert to tensor\n",
    "    question_tensor = torch.tensor(numerical_question).unsqueeze(0)\n",
    "\n",
    "    # send to model\n",
    "    output = model(question_tensor)\n",
    "\n",
    "    # converts logits to probability\n",
    "    probs = torch.nn.functional.softmax(output,dim=1)\n",
    "\n",
    "    # find max probability\n",
    "    value,index = torch.max(probs,dim=1)\n",
    "\n",
    "    if value < threshold:\n",
    "        print(\"I don't know\")\n",
    "    \n",
    "    return list(vocab.keys())[index]\n",
    "\n",
    "\n"
   ]
  },
  {
   "cell_type": "code",
   "execution_count": 60,
   "id": "b6b22c6f",
   "metadata": {},
   "outputs": [
    {
     "name": "stdout",
     "output_type": "stream",
     "text": [
      "Paris\n"
     ]
    }
   ],
   "source": [
    "question = input(\"Enter your question\")\n",
    "answer = predict(model,question).capitalize()\n",
    "print(answer)"
   ]
  },
  {
   "cell_type": "code",
   "execution_count": null,
   "id": "50a19bda",
   "metadata": {},
   "outputs": [],
   "source": []
  }
 ],
 "metadata": {
  "kernelspec": {
   "display_name": "venv (3.13.3)",
   "language": "python",
   "name": "python3"
  },
  "language_info": {
   "codemirror_mode": {
    "name": "ipython",
    "version": 3
   },
   "file_extension": ".py",
   "mimetype": "text/x-python",
   "name": "python",
   "nbconvert_exporter": "python",
   "pygments_lexer": "ipython3",
   "version": "3.13.3"
  }
 },
 "nbformat": 4,
 "nbformat_minor": 5
}
