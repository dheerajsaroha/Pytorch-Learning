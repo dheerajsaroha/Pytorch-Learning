{
 "cells": [
  {
   "cell_type": "code",
   "execution_count": 1,
   "id": "ea0bafe1-471a-401f-95ce-ab9a1d764fff",
   "metadata": {},
   "outputs": [
    {
     "name": "stdout",
     "output_type": "stream",
     "text": [
      "tensor([[2.3822e-44, 0.0000e+00, 1.5893e-39],\n",
      "        [0.0000e+00, 0.0000e+00, 0.0000e+00]])\n",
      "<class 'torch.Tensor'>\n"
     ]
    }
   ],
   "source": [
    "import torch\n",
    "# using empty\n",
    "a=torch.empty(2,3)\n",
    "print(a)\n",
    "\n",
    "# using check type\n",
    "print(type(a))\n"
   ]
  },
  {
   "cell_type": "code",
   "execution_count": 11,
   "id": "3fc292c8-5c12-4cad-ba3e-03dc4ad6ac2f",
   "metadata": {},
   "outputs": [
    {
     "name": "stdout",
     "output_type": "stream",
     "text": [
      "tensor([[0., 0., 0.],\n",
      "        [0., 0., 0.]])\n",
      "tensor([[1., 1., 1.],\n",
      "        [1., 1., 1.],\n",
      "        [1., 1., 1.]])\n"
     ]
    }
   ],
   "source": [
    "# Using zeros and ones\n",
    "using_zero=torch.zeros(2,3)\n",
    "using_ones = torch.ones(3,3)\n",
    "print(using_zero)\n",
    "print(using_ones)"
   ]
  },
  {
   "cell_type": "code",
   "execution_count": 12,
   "id": "ba4ef321-eaa4-40fc-9caf-d318472b42f7",
   "metadata": {},
   "outputs": [
    {
     "name": "stdout",
     "output_type": "stream",
     "text": [
      "tensor([[0.8992, 0.4693, 0.8280, 0.3693],\n",
      "        [0.0338, 0.3517, 0.0621, 0.2938]])\n"
     ]
    }
   ],
   "source": [
    "# using rand \n",
    "a = torch.rand(2,4)\n",
    "print(a)"
   ]
  },
  {
   "cell_type": "code",
   "execution_count": 15,
   "id": "cc0e6e0d-0a3d-4fec-b9be-ae01e66c1339",
   "metadata": {},
   "outputs": [
    {
     "name": "stdout",
     "output_type": "stream",
     "text": [
      "tensor([[0.1117, 0.8158],\n",
      "        [0.2626, 0.4839]])\n",
      "<class 'torch.Tensor'>\n"
     ]
    }
   ],
   "source": [
    "# Use of seed and manual seed\n",
    "torch.manual_seed(100)\n",
    "a= torch.rand(2,2)\n",
    "print(a)\n",
    "print(type(a))\n"
   ]
  },
  {
   "cell_type": "code",
   "execution_count": 26,
   "id": "88c1db6d-52af-4f03-8ddc-db94f776c0c4",
   "metadata": {},
   "outputs": [
    {
     "name": "stdout",
     "output_type": "stream",
     "text": [
      "tensor([[1., 0., 0., 0., 0.],\n",
      "        [0., 1., 0., 0., 0.],\n",
      "        [0., 0., 1., 0., 0.],\n",
      "        [0., 0., 0., 1., 0.],\n",
      "        [0., 0., 0., 0., 1.]])\n",
      "tensor([[10, 10, 10],\n",
      "        [10, 10, 10],\n",
      "        [10, 10, 10]])\n"
     ]
    }
   ],
   "source": [
    "# use of full and eye\n",
    "a=torch.eye(5)\n",
    "print(a)\n",
    "print(torch.full((3,3),10))\n"
   ]
  },
  {
   "cell_type": "code",
   "execution_count": 29,
   "id": "e75e28eb-fd60-45b7-87c0-78d08f763954",
   "metadata": {},
   "outputs": [
    {
     "name": "stdout",
     "output_type": "stream",
     "text": [
      "cpu\n"
     ]
    }
   ],
   "source": [
    "print(a.device)"
   ]
  },
  {
   "cell_type": "code",
   "execution_count": 30,
   "id": "1449c622-86bb-4952-b485-e9fd83bfab36",
   "metadata": {},
   "outputs": [
    {
     "name": "stdout",
     "output_type": "stream",
     "text": [
      "tensor([1, 2, 3, 4, 5])\n"
     ]
    }
   ],
   "source": [
    "# custom tensor\n",
    "a = torch.tensor([1,2,3,4,5])\n",
    "print(a)"
   ]
  },
  {
   "cell_type": "code",
   "execution_count": 31,
   "id": "165e891c-2afe-42dd-80ce-1241319853dc",
   "metadata": {},
   "outputs": [
    {
     "name": "stdout",
     "output_type": "stream",
     "text": [
      "tensor([1, 2, 3, 4, 5, 6, 7, 8, 9])\n"
     ]
    }
   ],
   "source": [
    "# use of arange and linspace\n",
    "a = torch.arange(1,10)\n",
    "print(a)"
   ]
  },
  {
   "cell_type": "code",
   "execution_count": 32,
   "id": "13d9e06a-a177-4737-bc82-bbc41efe846a",
   "metadata": {},
   "outputs": [
    {
     "name": "stdout",
     "output_type": "stream",
     "text": [
      "tensor([10.0000, 10.2041, 10.4082, 10.6122, 10.8163, 11.0204, 11.2245, 11.4286,\n",
      "        11.6327, 11.8367, 12.0408, 12.2449, 12.4490, 12.6531, 12.8571, 13.0612,\n",
      "        13.2653, 13.4694, 13.6735, 13.8776, 14.0816, 14.2857, 14.4898, 14.6939,\n",
      "        14.8980, 15.1020, 15.3061, 15.5102, 15.7143, 15.9184, 16.1224, 16.3265,\n",
      "        16.5306, 16.7347, 16.9388, 17.1429, 17.3469, 17.5510, 17.7551, 17.9592,\n",
      "        18.1633, 18.3673, 18.5714, 18.7755, 18.9796, 19.1837, 19.3878, 19.5918,\n",
      "        19.7959, 20.0000])\n"
     ]
    }
   ],
   "source": [
    "a= torch.linspace(10,20,50)\n",
    "print(a)"
   ]
  },
  {
   "cell_type": "code",
   "execution_count": 34,
   "id": "7fe2a0b2-1004-46e9-b130-0382e65aaa98",
   "metadata": {},
   "outputs": [
    {
     "name": "stdout",
     "output_type": "stream",
     "text": [
      "tensor([1, 2, 3, 4, 5, 6, 7, 8, 9])\n",
      "torch.Size([9])\n",
      "tensor([[2, 4, 6],\n",
      "        [3, 2, 1],\n",
      "        [4, 2, 5]])\n",
      "torch.Size([3, 3])\n"
     ]
    }
   ],
   "source": [
    "# Tensor shapes\n",
    "# We can find out the shapes of tensor using shape attribute of torch\n",
    "a = torch.arange(1,10)\n",
    "print(a)\n",
    "print(a.shape)\n",
    "\n",
    "b= torch.tensor([[2,4,6],[3,2,1],[4,2,5]])\n",
    "print(b)\n",
    "print(b.shape)"
   ]
  },
  {
   "cell_type": "code",
   "execution_count": 37,
   "id": "39ce7122-aa0f-451b-acb9-665ab93faa33",
   "metadata": {},
   "outputs": [
    {
     "name": "stdout",
     "output_type": "stream",
     "text": [
      "tensor([[126582679210960, 107191297705072, 107191297642368],\n",
      "        [107191221723600,               0, 107191297828944],\n",
      "        [107191270157104, 126581895573856,               1]])\n"
     ]
    }
   ],
   "source": [
    "# use of empty\n",
    "p = torch.empty_like(b)\n",
    "print(p)"
   ]
  },
  {
   "cell_type": "code",
   "execution_count": 42,
   "id": "6e2397de-b094-4e01-8a9f-26c56905c745",
   "metadata": {},
   "outputs": [
    {
     "name": "stdout",
     "output_type": "stream",
     "text": [
      "tensor([[2, 2, 2],\n",
      "        [2, 2, 2],\n",
      "        [2, 2, 2]])\n",
      "tensor([[1., 0.],\n",
      "        [0., 1.]])\n"
     ]
    },
    {
     "data": {
      "text/plain": [
       "torch.float32"
      ]
     },
     "execution_count": 42,
     "metadata": {},
     "output_type": "execute_result"
    }
   ],
   "source": [
    "q= torch.full((3,3),2)\n",
    "print(q)\n",
    "q= torch.eye(2)\n",
    "print(q)\n",
    "\n",
    "q.dtype"
   ]
  },
  {
   "cell_type": "code",
   "execution_count": 44,
   "id": "c6437e90-cbeb-4bab-a111-a9d65260f4f9",
   "metadata": {},
   "outputs": [
    {
     "name": "stdout",
     "output_type": "stream",
     "text": [
      "tensor([1, 2, 3], dtype=torch.int32)\n",
      "tensor([1., 2., 3.], dtype=torch.float64)\n"
     ]
    }
   ],
   "source": [
    "# assign dataype\n",
    "a= torch.tensor([1.0,2.0,3.0],dtype= torch.int32)\n",
    "print(a)\n",
    "a= torch.tensor([1 ,2 ,3],dtype= torch.float64)\n",
    "print(a)\n"
   ]
  },
  {
   "cell_type": "code",
   "execution_count": 45,
   "id": "c13f6b29-dba2-4a6b-8662-e88f084cc2ae",
   "metadata": {},
   "outputs": [
    {
     "name": "stdout",
     "output_type": "stream",
     "text": [
      "tensor([[0.6765, 0.7539, 0.2627],\n",
      "        [0.0428, 0.2080, 0.1180],\n",
      "        [0.1217, 0.7356, 0.7118]])\n"
     ]
    }
   ],
   "source": [
    "# Mathematical Operation\n",
    "# Scaler Operation\n",
    "x=torch.rand(3,3)\n",
    "print(x)\n",
    "\n"
   ]
  },
  {
   "cell_type": "code",
   "execution_count": 52,
   "id": "a34a0f9c-8c76-40c3-944c-c62a71ae9323",
   "metadata": {},
   "outputs": [
    {
     "name": "stdout",
     "output_type": "stream",
     "text": [
      "tensor([[26., 10., 11.],\n",
      "        [10., 10., 10.],\n",
      "        [10., 26., 26.]])\n",
      "tensor([[22.,  6.,  7.],\n",
      "        [ 6.,  6.,  6.],\n",
      "        [ 6., 22., 22.]])\n",
      "tensor([[88., 24., 28.],\n",
      "        [24., 24., 24.],\n",
      "        [24., 88., 88.]])\n",
      "tensor([[44., 12., 14.],\n",
      "        [12., 12., 12.],\n",
      "        [12., 44., 44.]])\n",
      "tensor([[2., 0., 2.],\n",
      "        [0., 0., 0.],\n",
      "        [0., 2., 2.]])\n",
      "tensor([[16.,  0., 16.],\n",
      "        [ 0.,  0.,  0.],\n",
      "        [ 0., 16., 16.]])\n",
      "tensor([[15.,  5., 15.],\n",
      "        [ 5.,  5.,  5.],\n",
      "        [ 5., 15., 15.]])\n"
     ]
    }
   ],
   "source": [
    "# Addition\n",
    "x=x+10\n",
    "print(x)\n",
    "\n",
    "# Subtraction\n",
    "x=x-4\n",
    "print(x)\n",
    "\n",
    "# Multiplication\n",
    "x=x*4\n",
    "print(x)\n",
    "\n",
    "# Division\n",
    "x=x//2\n",
    "print(x)\n",
    "\n",
    "# Mod \n",
    "x=x%3\n",
    "print(x)\n",
    "\n",
    "# pow\n",
    "x= x**4\n",
    "print(x)\n",
    "\n",
    "# clamp \n",
    "a = torch.clamp(x,5,15)\n",
    "print(a)\n"
   ]
  },
  {
   "cell_type": "code",
   "execution_count": 16,
   "id": "6ac48703-2d55-4110-8c3c-4f3b299cb099",
   "metadata": {},
   "outputs": [
    {
     "name": "stdout",
     "output_type": "stream",
     "text": [
      "tensor([[1., 3., 2.],\n",
      "        [3., 8., 8.]])\n"
     ]
    }
   ],
   "source": [
    "# Reduction Operation\n",
    "\n",
    "e= torch.randint(size=(2,3),low=0,high=10,dtype = torch.float32)\n",
    "print(e)\n"
   ]
  },
  {
   "cell_type": "code",
   "execution_count": 29,
   "id": "68c98ad3-eb7d-47f6-9261-7857d2908ea7",
   "metadata": {},
   "outputs": [
    {
     "name": "stdout",
     "output_type": "stream",
     "text": [
      "tensor(25.)\n",
      "tensor([ 4., 11., 10.])\n",
      "tensor([ 6., 19.])\n",
      "tensor(4.1667)\n",
      "tensor([2.0000, 5.5000, 5.0000])\n",
      "tensor([2.0000, 6.3333])\n",
      "Max:\n",
      " tensor(8.) \n",
      "Min :\n",
      " tensor(1.)\n",
      "Product:\n",
      " tensor(1152.)\n",
      "Standard Deviation:\n",
      " tensor(3.0605)\n",
      "Variance :\n",
      " tensor(9.3667)\n",
      "Argmax: \n",
      " tensor(4) \n",
      " Argmin :\n",
      " tensor(0)\n"
     ]
    }
   ],
   "source": [
    "# sum\n",
    "print(torch.sum(e))\n",
    "\n",
    "# sum along column\n",
    "print(torch.sum(e,axis=0))\n",
    "\n",
    "# sum along row\n",
    "print(torch.sum(e,axis=1))\n",
    "\n",
    "# mean\n",
    "print(torch.mean(e))\n",
    "\n",
    "# mean along col\n",
    "print(torch.mean(e,axis = 0))\n",
    "\n",
    "# mean along row\n",
    "print(torch.mean(e,axis = 1))\n",
    "\n",
    "# max and min\n",
    "print(\"Max:\\n\",torch.max(e),\"\\nMin :\\n\",torch.min(e))\n",
    "\n",
    "# product\n",
    "print(\"Product:\\n\",torch.prod(e))\n",
    "\n",
    "# standard deviation\n",
    "print(\"Standard Deviation:\\n\",torch.std(e))\n",
    "\n",
    "# Varience\n",
    "print(\"Variance :\\n\",torch.var(e))\n",
    "\n",
    "# Argmax(position of max element) and argmin(position of argmin)\n",
    "print(\"Argmax: \\n\",torch.argmax(e),\"\\n Argmin :\\n\",torch.argmin(e))"
   ]
  },
  {
   "cell_type": "code",
   "execution_count": 51,
   "id": "6c5f978f-b131-43aa-9c1b-cb2afea21426",
   "metadata": {},
   "outputs": [
    {
     "name": "stdout",
     "output_type": "stream",
     "text": [
      "Matrix:\n",
      " tensor([[8, 9, 6],\n",
      "        [4, 9, 0]]) \n",
      "Matrix\n",
      " tensor([[4, 6],\n",
      "        [4, 5],\n",
      "        [7, 6]])\n"
     ]
    }
   ],
   "source": [
    "# Matrix Operation\n",
    "f=torch.randint(size=(2,3),low=0,high=10)\n",
    "g=torch.randint(size=(3,2),low=0,high=10)\n",
    "\n",
    "print(\"Matrix:\\n\",f,\"\\nMatrix\\n\",g)\n"
   ]
  },
  {
   "cell_type": "code",
   "execution_count": 48,
   "id": "f7487500-a58f-422a-8ff3-89b523b89e3b",
   "metadata": {},
   "outputs": [
    {
     "name": "stdout",
     "output_type": "stream",
     "text": [
      "Matrix Multiplication\n",
      " tensor(27)\n"
     ]
    }
   ],
   "source": [
    "# matrix mul\n",
    "print(\"Matrix Multiplication\\n\",torch.matmul(f,g))\n",
    "\n",
    "# f= torch.tensor([1,2,4])\n",
    "# g = torch.tensor([3,2,5])\n",
    "# # dot product\n",
    "# print(\"Dot Product:\",torch.dot(f,g))\n",
    "\n"
   ]
  },
  {
   "cell_type": "code",
   "execution_count": 52,
   "id": "ad7f3560-a346-4fc8-ac08-5bd268ede117",
   "metadata": {},
   "outputs": [
    {
     "data": {
      "text/plain": [
       "tensor([[8, 4],\n",
       "        [9, 9],\n",
       "        [6, 0]])"
      ]
     },
     "execution_count": 52,
     "metadata": {},
     "output_type": "execute_result"
    }
   ],
   "source": [
    "# Transpose\n",
    "torch.transpose(f,0,1)"
   ]
  },
  {
   "cell_type": "code",
   "execution_count": 56,
   "id": "dfbcdc98-e0d3-4c56-8bea-77f98261ca02",
   "metadata": {},
   "outputs": [
    {
     "name": "stdout",
     "output_type": "stream",
     "text": [
      "tensor([1, 2, 3])\n",
      "tensor([3, 6, 6])\n"
     ]
    }
   ],
   "source": [
    "a=torch.tensor([1,2,3])\n",
    "b=torch.tensor([2,4,3])\n",
    "# print(a+b)\n",
    "print(a)\n",
    "a.add_(b) \n",
    "print(a)\n"
   ]
  },
  {
   "cell_type": "code",
   "execution_count": 2,
   "id": "ab3b6eb8-1f97-4e9c-ba85-7aa6e74b61da",
   "metadata": {},
   "outputs": [
    {
     "name": "stderr",
     "output_type": "stream",
     "text": [
      "/home/dheeraj/.config/jupyterlab-desktop/jlab_server/lib/python3.12/site-packages/torch/cuda/__init__.py:182: UserWarning: CUDA initialization: CUDA unknown error - this may be due to an incorrectly set up environment, e.g. changing env variable CUDA_VISIBLE_DEVICES after program start. Setting the available devices to be zero. (Triggered internally at /pytorch/c10/cuda/CUDAFunctions.cpp:109.)\n",
      "  return torch._C._cuda_getDeviceCount() > 0\n"
     ]
    },
    {
     "data": {
      "text/plain": [
       "False"
      ]
     },
     "execution_count": 2,
     "metadata": {},
     "output_type": "execute_result"
    }
   ],
   "source": [
    "# Tensor operation on GPU\n",
    "torch.cuda.is_available()"
   ]
  },
  {
   "cell_type": "code",
   "execution_count": 3,
   "id": "d4ec4935-f322-4798-ae12-16d2dc05382f",
   "metadata": {},
   "outputs": [
    {
     "name": "stdout",
     "output_type": "stream",
     "text": [
      "Thu Aug 14 17:14:24 2025       \n",
      "+-----------------------------------------------------------------------------------------+\n",
      "| NVIDIA-SMI 570.169                Driver Version: 570.169        CUDA Version: 12.8     |\n",
      "|-----------------------------------------+------------------------+----------------------+\n",
      "| GPU  Name                 Persistence-M | Bus-Id          Disp.A | Volatile Uncorr. ECC |\n",
      "| Fan  Temp   Perf          Pwr:Usage/Cap |           Memory-Usage | GPU-Util  Compute M. |\n",
      "|                                         |                        |               MIG M. |\n",
      "|=========================================+========================+======================|\n",
      "|   0  NVIDIA GeForce GTX 1650        Off |   00000000:01:00.0 Off |                  N/A |\n",
      "| N/A   44C    P8              1W /   50W |       5MiB /   4096MiB |      0%      Default |\n",
      "|                                         |                        |                  N/A |\n",
      "+-----------------------------------------+------------------------+----------------------+\n",
      "                                                                                         \n",
      "+-----------------------------------------------------------------------------------------+\n",
      "| Processes:                                                                              |\n",
      "|  GPU   GI   CI              PID   Type   Process name                        GPU Memory |\n",
      "|        ID   ID                                                               Usage      |\n",
      "|=========================================================================================|\n",
      "|    0   N/A  N/A            2076      G   /usr/lib/xorg/Xorg                        4MiB |\n",
      "+-----------------------------------------------------------------------------------------+\n"
     ]
    }
   ],
   "source": [
    "!nvidia-smi\n"
   ]
  },
  {
   "cell_type": "code",
   "execution_count": 4,
   "id": "22dec6d3-7b88-4c82-a503-909690872888",
   "metadata": {},
   "outputs": [
    {
     "name": "stdout",
     "output_type": "stream",
     "text": [
      "12.8\n"
     ]
    }
   ],
   "source": [
    "import torch\n",
    "print(torch.version.cuda)"
   ]
  },
  {
   "cell_type": "code",
   "execution_count": 5,
   "id": "b1046ea6-463b-400d-a304-330995754305",
   "metadata": {},
   "outputs": [
    {
     "name": "stdout",
     "output_type": "stream",
     "text": [
      "False\n"
     ]
    }
   ],
   "source": [
    "print(torch.cuda.is_available())\n"
   ]
  }
 ],
 "metadata": {
  "kernelspec": {
   "display_name": ".venv (3.13.3)",
   "language": "python",
   "name": "python3"
  },
  "language_info": {
   "codemirror_mode": {
    "name": "ipython",
    "version": 3
   },
   "file_extension": ".py",
   "mimetype": "text/x-python",
   "name": "python",
   "nbconvert_exporter": "python",
   "pygments_lexer": "ipython3",
   "version": "3.13.3"
  }
 },
 "nbformat": 4,
 "nbformat_minor": 5
}
